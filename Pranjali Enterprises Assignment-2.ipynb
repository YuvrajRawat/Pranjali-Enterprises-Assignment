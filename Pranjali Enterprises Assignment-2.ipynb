{
 "cells": [
  {
   "cell_type": "code",
   "execution_count": 1,
   "id": "6b7d1439",
   "metadata": {},
   "outputs": [],
   "source": [
    "import pandas as pd"
   ]
  },
  {
   "cell_type": "code",
   "execution_count": 44,
   "id": "c6da5d8f",
   "metadata": {},
   "outputs": [],
   "source": [
    "# Load the data from CSV file\n",
    "df = pd.read_csv(r'C:\\Users\\yuvra\\Downloads\\data\\data.csv')"
   ]
  },
  {
   "cell_type": "code",
   "execution_count": 45,
   "id": "e3257623",
   "metadata": {},
   "outputs": [],
   "source": [
    "# Filter data by Ticker column to include only BANKNIFTYxxxxxxxxxxCE.NFO & BANKNIFTYxxxxxxxxxxPE.NFO\n",
    "df = df[df['Ticker'].str.startswith('BANKNIFTY')]"
   ]
  },
  {
   "cell_type": "code",
   "execution_count": 46,
   "id": "9b5046a7",
   "metadata": {},
   "outputs": [],
   "source": [
    "# Extract scrip (35000PE) from ticker and create separate column named scrip\n",
    "df['scrip'] = df['Ticker'].str.extract(r'BANKNIFTY\\d{2}\\w{3}\\d{2}(\\d+.{2})\\w{2}')\n",
    "\n",
    "# Extract expiry date (03FEB22) from ticker and create separate column named expiry\n",
    "df['expiry'] = df['Ticker'].str.extract(r'BANKNIFTY(\\d{2}\\w{3}\\d{2})\\d+.{2}\\w{2}')"
   ]
  },
  {
   "cell_type": "code",
   "execution_count": 47,
   "id": "8e49b7b1",
   "metadata": {},
   "outputs": [],
   "source": [
    "# Convert \"Date\" and \"Time\" columns to datetime format\n",
    "df['Date'] = pd.to_datetime(df['Date'])\n",
    "df['Time'] = pd.to_datetime(df['Time'], format='%H:%M:%S')\n",
    "\n",
    "# Combine \"Date\" and \"Time\" columns into a new column named \"date_time\"\n",
    "df['date_time'] = df['Date'].dt.strftime('%d/%m/%Y') + ' ' + df['Time'].dt.strftime('%H:%M')\n",
    "df.sort_values(by='date_time', inplace=True)"
   ]
  },
  {
   "cell_type": "code",
   "execution_count": 49,
   "id": "4e925d21",
   "metadata": {},
   "outputs": [],
   "source": [
    "# Calculate dte = expiry - Date\n",
    "df['expiry'] = pd.to_datetime(df['expiry'], format='%d%b%y')\n",
    "df['dte'] = (df['expiry'] - df['Date']).dt.days"
   ]
  },
  {
   "cell_type": "code",
   "execution_count": 50,
   "id": "4266271b",
   "metadata": {},
   "outputs": [],
   "source": [
    "# Filter data by minimum dte value\n",
    "min_dte = df['dte'].min()\n",
    "df = df[df['dte'] == min_dte]"
   ]
  },
  {
   "cell_type": "code",
   "execution_count": 51,
   "id": "9b8d54fc",
   "metadata": {},
   "outputs": [],
   "source": [
    "# Remove columns: Ticker, Date, Time, Volume, Open Interest\n",
    "columns_to_remove = ['Ticker', 'Date', 'Time', 'Volume', 'Open Interest']\n",
    "df.drop(columns=columns_to_remove, inplace=True)"
   ]
  },
  {
   "cell_type": "code",
   "execution_count": 52,
   "id": "3bc4faa5",
   "metadata": {},
   "outputs": [],
   "source": [
    "# Sort data by datetime\n",
    "df.sort_values(by='date_time', inplace=True)"
   ]
  },
  {
   "cell_type": "code",
   "execution_count": 53,
   "id": "df9122b6",
   "metadata": {},
   "outputs": [
    {
     "name": "stdout",
     "output_type": "stream",
     "text": [
      "         Open    High     Low   Close  scrip     expiry         date_time  \\\n",
      "26296  206.05  221.85  205.70  218.25  21700 2017-04-13  04/07/2017 09:15   \n",
      "23235  266.00  277.60  266.00  271.70  21300 2017-04-13  04/07/2017 09:15   \n",
      "23362   51.40   54.15   40.00   46.85  21300 2017-04-13  04/07/2017 09:15   \n",
      "20962    6.00    6.60    3.50    3.50  20700 2017-04-13  04/07/2017 09:15   \n",
      "27030  290.20  290.20  279.60  279.60  21800 2017-04-13  04/07/2017 09:15   \n",
      "...       ...     ...     ...     ...    ...        ...               ...   \n",
      "24415  108.70  108.70  108.70  108.70  21400 2017-04-13  04/07/2017 15:30   \n",
      "24039  127.00  127.00  127.00  127.00  21400 2017-04-13  04/07/2017 15:30   \n",
      "29156    0.75    0.75    0.75    0.75  22400 2017-04-13  04/07/2017 15:30   \n",
      "25167  157.10  158.00  157.10  158.00  21500 2017-04-13  04/07/2017 15:30   \n",
      "25543   46.55   46.55   46.55   46.55  21600 2017-04-13  04/07/2017 15:30   \n",
      "\n",
      "        dte  \n",
      "26296 -82.0  \n",
      "23235 -82.0  \n",
      "23362 -82.0  \n",
      "20962 -82.0  \n",
      "27030 -82.0  \n",
      "...     ...  \n",
      "24415 -82.0  \n",
      "24039 -82.0  \n",
      "29156 -82.0  \n",
      "25167 -82.0  \n",
      "25543 -82.0  \n",
      "\n",
      "[8955 rows x 8 columns]\n"
     ]
    }
   ],
   "source": [
    "# Display the resulting DataFrame\n",
    "print(df)"
   ]
  }
 ],
 "metadata": {
  "kernelspec": {
   "display_name": "Python 3 (ipykernel)",
   "language": "python",
   "name": "python3"
  },
  "language_info": {
   "codemirror_mode": {
    "name": "ipython",
    "version": 3
   },
   "file_extension": ".py",
   "mimetype": "text/x-python",
   "name": "python",
   "nbconvert_exporter": "python",
   "pygments_lexer": "ipython3",
   "version": "3.11.5"
  }
 },
 "nbformat": 4,
 "nbformat_minor": 5
}
