{
 "cells": [
  {
   "cell_type": "code",
   "execution_count": 17,
   "id": "f15fdefb",
   "metadata": {},
   "outputs": [],
   "source": [
    "import pandas as pd"
   ]
  },
  {
   "cell_type": "code",
   "execution_count": 18,
   "id": "eb45bbbf",
   "metadata": {},
   "outputs": [],
   "source": [
    "# Load the data from CSV file\n",
    "df = pd.read_csv(r'C:\\Users\\yuvra\\Downloads\\data\\data.csv')"
   ]
  },
  {
   "cell_type": "code",
   "execution_count": 19,
   "id": "c687e261",
   "metadata": {},
   "outputs": [],
   "source": [
    "# Filter data by Ticker column\n",
    "df = df[df['Ticker'].str.startswith('BANKNIFTY')]"
   ]
  },
  {
   "cell_type": "code",
   "execution_count": 23,
   "id": "1092bdc1",
   "metadata": {},
   "outputs": [],
   "source": [
    "# Convert \"Date\" and \"Time\" columns to datetime format\n",
    "df['Date'] = pd.to_datetime(df['Date'])\n",
    "df['Time'] = pd.to_datetime(df['Time'], format='%H:%M:%S')"
   ]
  },
  {
   "cell_type": "code",
   "execution_count": 24,
   "id": "4873591f",
   "metadata": {},
   "outputs": [],
   "source": [
    "# Combine \"Date\" and \"Time\" columns into a new column named \"date_time\"\n",
    "df['date_time'] = df['Date'].dt.strftime('%m/%d/%Y') + ' ' + df['Time'].dt.strftime('%H:%M')\n",
    "df.sort_values(by='date_time', inplace=True)"
   ]
  },
  {
   "cell_type": "code",
   "execution_count": 25,
   "id": "98a63828",
   "metadata": {},
   "outputs": [],
   "source": [
    "# Move \"date_time\" column to the first position\n",
    "cols = list(df.columns)\n",
    "cols.insert(0, cols.pop(cols.index('date_time')))\n",
    "df = df[cols]"
   ]
  },
  {
   "cell_type": "code",
   "execution_count": 26,
   "id": "93501c3f",
   "metadata": {},
   "outputs": [],
   "source": [
    "# Remove columns: Ticker, Date, Time, Volume, Open Interest\n",
    "columns_to_remove = ['Ticker', 'Date', 'Time', 'Volume', 'Open Interest']\n",
    "df.drop(columns=columns_to_remove, inplace=True)"
   ]
  },
  {
   "cell_type": "code",
   "execution_count": 27,
   "id": "f141b71a",
   "metadata": {},
   "outputs": [
    {
     "name": "stdout",
     "output_type": "stream",
     "text": [
      "              date_time      Open      High       Low     Close\n",
      "26296  07/04/2017 09:15    206.05    221.85    205.70    218.25\n",
      "35878  07/04/2017 09:15    523.95    525.00    522.00    522.25\n",
      "27664  07/04/2017 09:15      7.85      8.55      6.45      8.00\n",
      "35508  07/04/2017 09:15     94.25     97.35     92.40     95.40\n",
      "35267  07/04/2017 09:15    115.40    124.25    115.40    124.25\n",
      "...                 ...       ...       ...       ...       ...\n",
      "24791  07/04/2017 15:30     81.00     81.00     81.00     81.00\n",
      "25919  07/04/2017 15:30    221.00    221.00    221.00    221.00\n",
      "25167  07/04/2017 15:30    157.10    158.00    157.10    158.00\n",
      "37521  07/04/2017 15:30  21447.45  21447.45  21445.00  21445.00\n",
      "30983  07/04/2017 15:30     46.50     47.90     46.50     46.50\n",
      "\n",
      "[17422 rows x 5 columns]\n"
     ]
    }
   ],
   "source": [
    "# Display the resulting DataFrame\n",
    "print(df)"
   ]
  }
 ],
 "metadata": {
  "kernelspec": {
   "display_name": "Python 3 (ipykernel)",
   "language": "python",
   "name": "python3"
  },
  "language_info": {
   "codemirror_mode": {
    "name": "ipython",
    "version": 3
   },
   "file_extension": ".py",
   "mimetype": "text/x-python",
   "name": "python",
   "nbconvert_exporter": "python",
   "pygments_lexer": "ipython3",
   "version": "3.11.5"
  }
 },
 "nbformat": 4,
 "nbformat_minor": 5
}
